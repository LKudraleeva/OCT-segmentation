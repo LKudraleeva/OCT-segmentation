{
 "cells": [
  {
   "cell_type": "code",
   "execution_count": 2,
   "metadata": {
    "collapsed": true
   },
   "outputs": [],
   "source": [
    "import os\n",
    "path = os.listdir('DenoisedTrainImages')\n",
    "path = sorted(path)"
   ]
  },
  {
   "cell_type": "code",
   "execution_count": 3,
   "outputs": [
    {
     "data": {
      "text/plain": "['denoised_1.png',\n 'denoised_10.png',\n 'denoised_100.png',\n 'denoised_101.png',\n 'denoised_102.png',\n 'denoised_103.png',\n 'denoised_104.png',\n 'denoised_105.png',\n 'denoised_106.png',\n 'denoised_107.png',\n 'denoised_108.png',\n 'denoised_109.png',\n 'denoised_11.png',\n 'denoised_110.png',\n 'denoised_111.png',\n 'denoised_112.png',\n 'denoised_113.png',\n 'denoised_114.png',\n 'denoised_115.png',\n 'denoised_116.png',\n 'denoised_117.png',\n 'denoised_118.png',\n 'denoised_119.png',\n 'denoised_12.png',\n 'denoised_120.png',\n 'denoised_121.png',\n 'denoised_122.png',\n 'denoised_123.png',\n 'denoised_124.png',\n 'denoised_125.png',\n 'denoised_126.png',\n 'denoised_127.png',\n 'denoised_128.png',\n 'denoised_129.png',\n 'denoised_13.png',\n 'denoised_130.png',\n 'denoised_131.png',\n 'denoised_132.png',\n 'denoised_133.png',\n 'denoised_134.png',\n 'denoised_135.png',\n 'denoised_136.png',\n 'denoised_137.png',\n 'denoised_138.png',\n 'denoised_139.png',\n 'denoised_14.png',\n 'denoised_140.png',\n 'denoised_141.png',\n 'denoised_142.png',\n 'denoised_143.png',\n 'denoised_144.png',\n 'denoised_145.png',\n 'denoised_146.png',\n 'denoised_147.png',\n 'denoised_148.png',\n 'denoised_149.png',\n 'denoised_15.png',\n 'denoised_150.png',\n 'denoised_151.png',\n 'denoised_152.png',\n 'denoised_153.png',\n 'denoised_154.png',\n 'denoised_155.png',\n 'denoised_156.png',\n 'denoised_157.png',\n 'denoised_158.png',\n 'denoised_159.png',\n 'denoised_16.png',\n 'denoised_160.png',\n 'denoised_161.png',\n 'denoised_162.png',\n 'denoised_163.png',\n 'denoised_164.png',\n 'denoised_165.png',\n 'denoised_166.png',\n 'denoised_167.png',\n 'denoised_168.png',\n 'denoised_169.png',\n 'denoised_17.png',\n 'denoised_170.png',\n 'denoised_171.png',\n 'denoised_172.png',\n 'denoised_173.png',\n 'denoised_174.png',\n 'denoised_175.png',\n 'denoised_176.png',\n 'denoised_177.png',\n 'denoised_178.png',\n 'denoised_179.png',\n 'denoised_18.png',\n 'denoised_180.png',\n 'denoised_181.png',\n 'denoised_182.png',\n 'denoised_183.png',\n 'denoised_184.png',\n 'denoised_185.png',\n 'denoised_186.png',\n 'denoised_187.png',\n 'denoised_188.png',\n 'denoised_189.png',\n 'denoised_19.png',\n 'denoised_190.png',\n 'denoised_191.png',\n 'denoised_192.png',\n 'denoised_193.png',\n 'denoised_194.png',\n 'denoised_195.png',\n 'denoised_196.png',\n 'denoised_197.png',\n 'denoised_198.png',\n 'denoised_199.png',\n 'denoised_2.png',\n 'denoised_20.png',\n 'denoised_200.png',\n 'denoised_201.png',\n 'denoised_202.png',\n 'denoised_203.png',\n 'denoised_204.png',\n 'denoised_205.png',\n 'denoised_206.png',\n 'denoised_207.png',\n 'denoised_208.png',\n 'denoised_209.png',\n 'denoised_21.png',\n 'denoised_210.png',\n 'denoised_211.png',\n 'denoised_212.png',\n 'denoised_213.png',\n 'denoised_214.png',\n 'denoised_215.png',\n 'denoised_216.png',\n 'denoised_217.png',\n 'denoised_218.png',\n 'denoised_219.png',\n 'denoised_22.png',\n 'denoised_220.png',\n 'denoised_221.png',\n 'denoised_222.png',\n 'denoised_223.png',\n 'denoised_224.png',\n 'denoised_225.png',\n 'denoised_226.png',\n 'denoised_227.png',\n 'denoised_228.png',\n 'denoised_229.png',\n 'denoised_23.png',\n 'denoised_230.png',\n 'denoised_231.png',\n 'denoised_232.png',\n 'denoised_233.png',\n 'denoised_234.png',\n 'denoised_235.png',\n 'denoised_236.png',\n 'denoised_237.png',\n 'denoised_238.png',\n 'denoised_239.png',\n 'denoised_24.png',\n 'denoised_240.png',\n 'denoised_241.png',\n 'denoised_242.png',\n 'denoised_243.png',\n 'denoised_244.png',\n 'denoised_245.png',\n 'denoised_246.png',\n 'denoised_247.png',\n 'denoised_248.png',\n 'denoised_249.png',\n 'denoised_25.png',\n 'denoised_250.png',\n 'denoised_251.png',\n 'denoised_252.png',\n 'denoised_253.png',\n 'denoised_254.png',\n 'denoised_255.png',\n 'denoised_256.png',\n 'denoised_257.png',\n 'denoised_258.png',\n 'denoised_259.png',\n 'denoised_26.png',\n 'denoised_260.png',\n 'denoised_261.png',\n 'denoised_262.png',\n 'denoised_263.png',\n 'denoised_264.png',\n 'denoised_265.png',\n 'denoised_266.png',\n 'denoised_267.png',\n 'denoised_268.png',\n 'denoised_269.png',\n 'denoised_27.png',\n 'denoised_270.png',\n 'denoised_271.png',\n 'denoised_272.png',\n 'denoised_273.png',\n 'denoised_274.png',\n 'denoised_275.png',\n 'denoised_276.png',\n 'denoised_277.png',\n 'denoised_278.png',\n 'denoised_279.png',\n 'denoised_28.png',\n 'denoised_280.png',\n 'denoised_281.png',\n 'denoised_282.png',\n 'denoised_283.png',\n 'denoised_284.png',\n 'denoised_285.png',\n 'denoised_286.png',\n 'denoised_287.png',\n 'denoised_288.png',\n 'denoised_289.png',\n 'denoised_29.png',\n 'denoised_290.png',\n 'denoised_291.png',\n 'denoised_292.png',\n 'denoised_293.png',\n 'denoised_294.png',\n 'denoised_295.png',\n 'denoised_296.png',\n 'denoised_297.png',\n 'denoised_298.png',\n 'denoised_299.png',\n 'denoised_3.png',\n 'denoised_30.png',\n 'denoised_300.png',\n 'denoised_301.png',\n 'denoised_302.png',\n 'denoised_303.png',\n 'denoised_304.png',\n 'denoised_305.png',\n 'denoised_306.png',\n 'denoised_307.png',\n 'denoised_308.png',\n 'denoised_309.png',\n 'denoised_31.png',\n 'denoised_310.png',\n 'denoised_311.png',\n 'denoised_312.png',\n 'denoised_313.png',\n 'denoised_314.png',\n 'denoised_315.png',\n 'denoised_316.png',\n 'denoised_317.png',\n 'denoised_318.png',\n 'denoised_319.png',\n 'denoised_32.png',\n 'denoised_320.png',\n 'denoised_321.png',\n 'denoised_322.png',\n 'denoised_323.png',\n 'denoised_324.png',\n 'denoised_325.png',\n 'denoised_326.png',\n 'denoised_327.png',\n 'denoised_328.png',\n 'denoised_329.png',\n 'denoised_33.png',\n 'denoised_330.png',\n 'denoised_331.png',\n 'denoised_332.png',\n 'denoised_333.png',\n 'denoised_334.png',\n 'denoised_335.png',\n 'denoised_336.png',\n 'denoised_337.png',\n 'denoised_338.png',\n 'denoised_339.png',\n 'denoised_34.png',\n 'denoised_340.png',\n 'denoised_341.png',\n 'denoised_342.png',\n 'denoised_343.png',\n 'denoised_344.png',\n 'denoised_345.png',\n 'denoised_346.png',\n 'denoised_347.png',\n 'denoised_348.png',\n 'denoised_349.png',\n 'denoised_35.png',\n 'denoised_350.png',\n 'denoised_351.png',\n 'denoised_352.png',\n 'denoised_353.png',\n 'denoised_354.png',\n 'denoised_355.png',\n 'denoised_356.png',\n 'denoised_357.png',\n 'denoised_358.png',\n 'denoised_359.png',\n 'denoised_36.png',\n 'denoised_360.png',\n 'denoised_361.png',\n 'denoised_362.png',\n 'denoised_363.png',\n 'denoised_364.png',\n 'denoised_365.png',\n 'denoised_366.png',\n 'denoised_367.png',\n 'denoised_368.png',\n 'denoised_369.png',\n 'denoised_37.png',\n 'denoised_370.png',\n 'denoised_371.png',\n 'denoised_372.png',\n 'denoised_373.png',\n 'denoised_374.png',\n 'denoised_375.png',\n 'denoised_376.png',\n 'denoised_377.png',\n 'denoised_378.png',\n 'denoised_379.png',\n 'denoised_38.png',\n 'denoised_380.png',\n 'denoised_381.png',\n 'denoised_382.png',\n 'denoised_383.png',\n 'denoised_384.png',\n 'denoised_385.png',\n 'denoised_386.png',\n 'denoised_387.png',\n 'denoised_388.png',\n 'denoised_389.png',\n 'denoised_39.png',\n 'denoised_390.png',\n 'denoised_391.png',\n 'denoised_392.png',\n 'denoised_393.png',\n 'denoised_394.png',\n 'denoised_395.png',\n 'denoised_396.png',\n 'denoised_397.png',\n 'denoised_398.png',\n 'denoised_399.png',\n 'denoised_4.png',\n 'denoised_40.png',\n 'denoised_400.png',\n 'denoised_401.png',\n 'denoised_402.png',\n 'denoised_403.png',\n 'denoised_404.png',\n 'denoised_405.png',\n 'denoised_406.png',\n 'denoised_407.png',\n 'denoised_408.png',\n 'denoised_409.png',\n 'denoised_41.png',\n 'denoised_410.png',\n 'denoised_411.png',\n 'denoised_412.png',\n 'denoised_413.png',\n 'denoised_414.png',\n 'denoised_415.png',\n 'denoised_416.png',\n 'denoised_417.png',\n 'denoised_418.png',\n 'denoised_419.png',\n 'denoised_42.png',\n 'denoised_420.png',\n 'denoised_421.png',\n 'denoised_422.png',\n 'denoised_423.png',\n 'denoised_424.png',\n 'denoised_425.png',\n 'denoised_426.png',\n 'denoised_427.png',\n 'denoised_428.png',\n 'denoised_429.png',\n 'denoised_43.png',\n 'denoised_430.png',\n 'denoised_431.png',\n 'denoised_432.png',\n 'denoised_433.png',\n 'denoised_434.png',\n 'denoised_435.png',\n 'denoised_436.png',\n 'denoised_437.png',\n 'denoised_438.png',\n 'denoised_439.png',\n 'denoised_44.png',\n 'denoised_440.png',\n 'denoised_441.png',\n 'denoised_442.png',\n 'denoised_443.png',\n 'denoised_444.png',\n 'denoised_445.png',\n 'denoised_446.png',\n 'denoised_447.png',\n 'denoised_448.png',\n 'denoised_449.png',\n 'denoised_45.png',\n 'denoised_450.png',\n 'denoised_451.png',\n 'denoised_452.png',\n 'denoised_453.png',\n 'denoised_454.png',\n 'denoised_455.png',\n 'denoised_456.png',\n 'denoised_457.png',\n 'denoised_458.png',\n 'denoised_459.png',\n 'denoised_46.png',\n 'denoised_460.png',\n 'denoised_461.png',\n 'denoised_462.png',\n 'denoised_463.png',\n 'denoised_464.png',\n 'denoised_465.png',\n 'denoised_466.png',\n 'denoised_467.png',\n 'denoised_468.png',\n 'denoised_469.png',\n 'denoised_47.png',\n 'denoised_470.png',\n 'denoised_471.png',\n 'denoised_472.png',\n 'denoised_473.png',\n 'denoised_474.png',\n 'denoised_475.png',\n 'denoised_476.png',\n 'denoised_477.png',\n 'denoised_478.png',\n 'denoised_479.png',\n 'denoised_48.png',\n 'denoised_480.png',\n 'denoised_481.png',\n 'denoised_482.png',\n 'denoised_483.png',\n 'denoised_484.png',\n 'denoised_485.png',\n 'denoised_486.png',\n 'denoised_487.png',\n 'denoised_488.png',\n 'denoised_489.png',\n 'denoised_49.png',\n 'denoised_490.png',\n 'denoised_491.png',\n 'denoised_492.png',\n 'denoised_493.png',\n 'denoised_494.png',\n 'denoised_495.png',\n 'denoised_496.png',\n 'denoised_497.png',\n 'denoised_498.png',\n 'denoised_499.png',\n 'denoised_5.png',\n 'denoised_50.png',\n 'denoised_500.png',\n 'denoised_501.png',\n 'denoised_502.png',\n 'denoised_503.png',\n 'denoised_504.png',\n 'denoised_505.png',\n 'denoised_506.png',\n 'denoised_507.png',\n 'denoised_508.png',\n 'denoised_509.png',\n 'denoised_51.png',\n 'denoised_510.png',\n 'denoised_511.png',\n 'denoised_512.png',\n 'denoised_513.png',\n 'denoised_514.png',\n 'denoised_515.png',\n 'denoised_516.png',\n 'denoised_517.png',\n 'denoised_518.png',\n 'denoised_519.png',\n 'denoised_52.png',\n 'denoised_520.png',\n 'denoised_521.png',\n 'denoised_522.png',\n 'denoised_523.png',\n 'denoised_524.png',\n 'denoised_525.png',\n 'denoised_526.png',\n 'denoised_527.png',\n 'denoised_528.png',\n 'denoised_529.png',\n 'denoised_53.png',\n 'denoised_530.png',\n 'denoised_531.png',\n 'denoised_532.png',\n 'denoised_533.png',\n 'denoised_534.png',\n 'denoised_535.png',\n 'denoised_536.png',\n 'denoised_537.png',\n 'denoised_538.png',\n 'denoised_539.png',\n 'denoised_54.png',\n 'denoised_540.png',\n 'denoised_541.png',\n 'denoised_542.png',\n 'denoised_543.png',\n 'denoised_544.png',\n 'denoised_545.png',\n 'denoised_546.png',\n 'denoised_547.png',\n 'denoised_548.png',\n 'denoised_549.png',\n 'denoised_55.png',\n 'denoised_550.png',\n 'denoised_551.png',\n 'denoised_552.png',\n 'denoised_553.png',\n 'denoised_554.png',\n 'denoised_555.png',\n 'denoised_556.png',\n 'denoised_557.png',\n 'denoised_558.png',\n 'denoised_559.png',\n 'denoised_56.png',\n 'denoised_560.png',\n 'denoised_561.png',\n 'denoised_562.png',\n 'denoised_563.png',\n 'denoised_564.png',\n 'denoised_565.png',\n 'denoised_566.png',\n 'denoised_567.png',\n 'denoised_568.png',\n 'denoised_569.png',\n 'denoised_57.png',\n 'denoised_570.png',\n 'denoised_571.png',\n 'denoised_572.png',\n 'denoised_573.png',\n 'denoised_574.png',\n 'denoised_575.png',\n 'denoised_576.png',\n 'denoised_577.png',\n 'denoised_578.png',\n 'denoised_579.png',\n 'denoised_58.png',\n 'denoised_580.png',\n 'denoised_581.png',\n 'denoised_582.png',\n 'denoised_583.png',\n 'denoised_584.png',\n 'denoised_585.png',\n 'denoised_586.png',\n 'denoised_587.png',\n 'denoised_588.png',\n 'denoised_589.png',\n 'denoised_59.png',\n 'denoised_590.png',\n 'denoised_591.png',\n 'denoised_592.png',\n 'denoised_593.png',\n 'denoised_594.png',\n 'denoised_595.png',\n 'denoised_596.png',\n 'denoised_597.png',\n 'denoised_598.png',\n 'denoised_599.png',\n 'denoised_6.png',\n 'denoised_60.png',\n 'denoised_600.png',\n 'denoised_601.png',\n 'denoised_602.png',\n 'denoised_603.png',\n 'denoised_604.png',\n 'denoised_605.png',\n 'denoised_606.png',\n 'denoised_607.png',\n 'denoised_608.png',\n 'denoised_609.png',\n 'denoised_61.png',\n 'denoised_610.png',\n 'denoised_611.png',\n 'denoised_612.png',\n 'denoised_613.png',\n 'denoised_614.png',\n 'denoised_615.png',\n 'denoised_616.png',\n 'denoised_617.png',\n 'denoised_618.png',\n 'denoised_619.png',\n 'denoised_62.png',\n 'denoised_620.png',\n 'denoised_621.png',\n 'denoised_622.png',\n 'denoised_623.png',\n 'denoised_624.png',\n 'denoised_625.png',\n 'denoised_626.png',\n 'denoised_627.png',\n 'denoised_628.png',\n 'denoised_629.png',\n 'denoised_63.png',\n 'denoised_630.png',\n 'denoised_631.png',\n 'denoised_632.png',\n 'denoised_633.png',\n 'denoised_634.png',\n 'denoised_635.png',\n 'denoised_636.png',\n 'denoised_637.png',\n 'denoised_638.png',\n 'denoised_639.png',\n 'denoised_64.png',\n 'denoised_640.png',\n 'denoised_641.png',\n 'denoised_642.png',\n 'denoised_643.png',\n 'denoised_644.png',\n 'denoised_645.png',\n 'denoised_646.png',\n 'denoised_647.png',\n 'denoised_648.png',\n 'denoised_649.png',\n 'denoised_65.png',\n 'denoised_650.png',\n 'denoised_651.png',\n 'denoised_652.png',\n 'denoised_653.png',\n 'denoised_654.png',\n 'denoised_655.png',\n 'denoised_656.png',\n 'denoised_657.png',\n 'denoised_658.png',\n 'denoised_659.png',\n 'denoised_66.png',\n 'denoised_660.png',\n 'denoised_661.png',\n 'denoised_662.png',\n 'denoised_663.png',\n 'denoised_664.png',\n 'denoised_665.png',\n 'denoised_666.png',\n 'denoised_667.png',\n 'denoised_668.png',\n 'denoised_669.png',\n 'denoised_67.png',\n 'denoised_670.png',\n 'denoised_671.png',\n 'denoised_672.png',\n 'denoised_673.png',\n 'denoised_674.png',\n 'denoised_675.png',\n 'denoised_676.png',\n 'denoised_677.png',\n 'denoised_678.png',\n 'denoised_679.png',\n 'denoised_68.png',\n 'denoised_680.png',\n 'denoised_681.png',\n 'denoised_682.png',\n 'denoised_683.png',\n 'denoised_684.png',\n 'denoised_685.png',\n 'denoised_686.png',\n 'denoised_687.png',\n 'denoised_688.png',\n 'denoised_689.png',\n 'denoised_69.png',\n 'denoised_690.png',\n 'denoised_691.png',\n 'denoised_692.png',\n 'denoised_693.png',\n 'denoised_694.png',\n 'denoised_695.png',\n 'denoised_696.png',\n 'denoised_697.png',\n 'denoised_698.png',\n 'denoised_699.png',\n 'denoised_7.png',\n 'denoised_70.png',\n 'denoised_700.png',\n 'denoised_701.png',\n 'denoised_702.png',\n 'denoised_703.png',\n 'denoised_704.png',\n 'denoised_705.png',\n 'denoised_706.png',\n 'denoised_707.png',\n 'denoised_708.png',\n 'denoised_709.png',\n 'denoised_71.png',\n 'denoised_710.png',\n 'denoised_711.png',\n 'denoised_712.png',\n 'denoised_713.png',\n 'denoised_714.png',\n 'denoised_715.png',\n 'denoised_716.png',\n 'denoised_717.png',\n 'denoised_718.png',\n 'denoised_719.png',\n 'denoised_72.png',\n 'denoised_720.png',\n 'denoised_721.png',\n 'denoised_722.png',\n 'denoised_723.png',\n 'denoised_724.png',\n 'denoised_725.png',\n 'denoised_726.png',\n 'denoised_727.png',\n 'denoised_728.png',\n 'denoised_729.png',\n 'denoised_73.png',\n 'denoised_730.png',\n 'denoised_731.png',\n 'denoised_732.png',\n 'denoised_733.png',\n 'denoised_734.png',\n 'denoised_735.png',\n 'denoised_736.png',\n 'denoised_737.png',\n 'denoised_738.png',\n 'denoised_739.png',\n 'denoised_74.png',\n 'denoised_740.png',\n 'denoised_741.png',\n 'denoised_742.png',\n 'denoised_743.png',\n 'denoised_744.png',\n 'denoised_745.png',\n 'denoised_746.png',\n 'denoised_747.png',\n 'denoised_748.png',\n 'denoised_749.png',\n 'denoised_75.png',\n 'denoised_750.png',\n 'denoised_751.png',\n 'denoised_752.png',\n 'denoised_753.png',\n 'denoised_754.png',\n 'denoised_755.png',\n 'denoised_756.png',\n 'denoised_757.png',\n 'denoised_758.png',\n 'denoised_759.png',\n 'denoised_76.png',\n 'denoised_760.png',\n 'denoised_761.png',\n 'denoised_762.png',\n 'denoised_763.png',\n 'denoised_764.png',\n 'denoised_765.png',\n 'denoised_766.png',\n 'denoised_767.png',\n 'denoised_768.png',\n 'denoised_769.png',\n 'denoised_77.png',\n 'denoised_770.png',\n 'denoised_78.png',\n 'denoised_79.png',\n 'denoised_8.png',\n 'denoised_80.png',\n 'denoised_81.png',\n 'denoised_82.png',\n 'denoised_83.png',\n 'denoised_84.png',\n 'denoised_85.png',\n 'denoised_86.png',\n 'denoised_87.png',\n 'denoised_88.png',\n 'denoised_89.png',\n 'denoised_9.png',\n 'denoised_90.png',\n 'denoised_91.png',\n 'denoised_92.png',\n 'denoised_93.png',\n 'denoised_94.png',\n 'denoised_95.png',\n 'denoised_96.png',\n 'denoised_97.png',\n 'denoised_98.png',\n 'denoised_99.png']"
     },
     "execution_count": 3,
     "metadata": {},
     "output_type": "execute_result"
    }
   ],
   "source": [
    "path"
   ],
   "metadata": {
    "collapsed": false
   }
  },
  {
   "cell_type": "code",
   "execution_count": 4,
   "outputs": [
    {
     "name": "stderr",
     "output_type": "stream",
     "text": [
      "C:\\Users\\user\\AppData\\Local\\Temp\\ipykernel_30236\\2287568032.py:5: DeprecationWarning: Starting with ImageIO v3 the behavior of this function will switch to that of iio.v3.imread. To keep the current behavior (and make this warning disappear) use `import imageio.v2 as imageio` or call `imageio.v2.imread` directly.\n",
      "  image = imageio.imread('DenoisedTrainImages/' + p)\n"
     ]
    }
   ],
   "source": [
    "import imageio\n",
    "\n",
    "images = []\n",
    "for p in path:\n",
    "    image = imageio.imread('DenoisedTrainImages/' + p)\n",
    "    images.append(image)"
   ],
   "metadata": {
    "collapsed": false
   }
  },
  {
   "cell_type": "code",
   "execution_count": 5,
   "outputs": [
    {
     "data": {
      "text/plain": "<matplotlib.image.AxesImage at 0x1e70266d840>"
     },
     "execution_count": 5,
     "metadata": {},
     "output_type": "execute_result"
    },
    {
     "data": {
      "text/plain": "<Figure size 432x288 with 1 Axes>",
      "image/png": "[encoded data removed]"
     },
     "metadata": {
      "needs_background": "light"
     },
     "output_type": "display_data"
    }
   ],
   "source": [
    "from matplotlib import pyplot as plt\n",
    "import numpy as np\n",
    "\n",
    "images = np.array(images)\n",
    "plt.imshow(images[0],cmap = \"gray\")"
   ],
   "metadata": {
    "collapsed": false
   }
  },
  {
   "cell_type": "code",
   "execution_count": 6,
   "outputs": [
    {
     "data": {
      "text/plain": "(216, 64)"
     },
     "execution_count": 6,
     "metadata": {},
     "output_type": "execute_result"
    }
   ],
   "source": [
    "images[0].shape"
   ],
   "metadata": {
    "collapsed": false
   }
  },
  {
   "cell_type": "code",
   "execution_count": 7,
   "outputs": [],
   "source": [
    "import numpy as np\n",
    "\n",
    "labels = np.load('resized_cropped_labeledimages.npy')"
   ],
   "metadata": {
    "collapsed": false
   }
  },
  {
   "cell_type": "code",
   "execution_count": 8,
   "outputs": [
    {
     "data": {
      "text/plain": "(770, 216, 64)"
     },
     "execution_count": 8,
     "metadata": {},
     "output_type": "execute_result"
    }
   ],
   "source": [
    "labels.shape"
   ],
   "metadata": {
    "collapsed": false
   }
  },
  {
   "cell_type": "code",
   "execution_count": 9,
   "outputs": [],
   "source": [
    "train_labels = np.zeros((770,216,64,8))\n",
    "for i in range(770):\n",
    "    for j in range(216) :\n",
    "        for k in range(64):\n",
    "            if labels[i][j][k] == 0:\n",
    "                train_labels[i][j][k][0] = 1\n",
    "            if labels[i][j][k] == 1:\n",
    "                train_labels[i][j][k][1] = 1\n",
    "            if labels[i][j][k] == 2:\n",
    "                train_labels[i][j][k][2] = 1\n",
    "            if labels[i][j][k] == 3:\n",
    "                train_labels[i][j][k][3] = 1\n",
    "            if labels[i][j][k] == 4:\n",
    "                train_labels[i][j][k][4] = 1\n",
    "            if labels[i][j][k] == 5:\n",
    "                train_labels[i][j][k][5] = 1\n",
    "            if labels[i][j][k] == 6:\n",
    "                train_labels[i][j][k][6] = 1\n",
    "            if labels[i][j][k] == 7:\n",
    "                train_labels[i][j][k][7] = 1"
   ],
   "metadata": {
    "collapsed": false
   }
  },
  {
   "cell_type": "code",
   "execution_count": 10,
   "outputs": [
    {
     "data": {
      "text/plain": "array([1., 0., 0., 0., 0., 0., 0., 0.])"
     },
     "execution_count": 10,
     "metadata": {},
     "output_type": "execute_result"
    }
   ],
   "source": [
    "train_labels[0][0][0]"
   ],
   "metadata": {
    "collapsed": false
   }
  },
  {
   "cell_type": "code",
   "execution_count": 11,
   "outputs": [],
   "source": [
    "images = images.reshape(images.shape[0],216,64,1)"
   ],
   "metadata": {
    "collapsed": false
   }
  },
  {
   "cell_type": "code",
   "execution_count": 12,
   "outputs": [],
   "source": [
    "weights = np.load('weighted_cropped_images.npy')"
   ],
   "metadata": {
    "collapsed": false
   }
  },
  {
   "cell_type": "code",
   "execution_count": 13,
   "outputs": [
    {
     "data": {
      "text/plain": "(770, 216, 64)"
     },
     "execution_count": 13,
     "metadata": {},
     "output_type": "execute_result"
    }
   ],
   "source": [
    "weights.shape"
   ],
   "metadata": {
    "collapsed": false
   }
  },
  {
   "cell_type": "code",
   "execution_count": 14,
   "outputs": [],
   "source": [
    "from sklearn.model_selection import train_test_split\n",
    "\n",
    "x_train, x_test, y_train, y_test, w_train, w_test = train_test_split(images,train_labels,weights,test_size=0.35)"
   ],
   "metadata": {
    "collapsed": false
   }
  },
  {
   "cell_type": "code",
   "execution_count": 15,
   "outputs": [],
   "source": [
    "x_train = x_train.astype('float32')\n",
    "y_train = y_train.astype('float32')\n",
    "x_test = x_test.astype('float32')\n",
    "y_test = y_test.astype('float32')"
   ],
   "metadata": {
    "collapsed": false
   }
  },
  {
   "cell_type": "code",
   "execution_count": 16,
   "outputs": [
    {
     "name": "stdout",
     "output_type": "stream",
     "text": [
      "(500, 216, 64, 1)\n",
      "(270, 216, 64, 1)\n",
      "(500, 216, 64, 8)\n",
      "(500, 216, 64)\n"
     ]
    }
   ],
   "source": [
    "print(x_train.shape)\n",
    "print(x_test.shape)\n",
    "print(y_train.shape)\n",
    "print(w_train.shape)"
   ],
   "metadata": {
    "collapsed": false
   }
  },
  {
   "cell_type": "code",
   "execution_count": 17,
   "outputs": [],
   "source": [
    "data_shape = 216*64\n",
    "weight_decay = 0.0001"
   ],
   "metadata": {
    "collapsed": false
   }
  },
  {
   "cell_type": "code",
   "execution_count": 18,
   "outputs": [
    {
     "name": "stdout",
     "output_type": "stream",
     "text": [
      "Model: \"model\"\n",
      "__________________________________________________________________________________________________\n",
      " Layer (type)                   Output Shape         Param #     Connected to                     \n",
      "==================================================================================================\n",
      " input_1 (InputLayer)           [(None, 216, 64, 1)  0           []                               \n",
      "                                ]                                                                 \n",
      "                                                                                                  \n",
      " conv2d (Conv2D)                (None, 216, 64, 64)  640         ['input_1[0][0]']                \n",
      "                                                                                                  \n",
      " batch_normalization (BatchNorm  (None, 216, 64, 64)  256        ['conv2d[0][0]']                 \n",
      " alization)                                                                                       \n",
      "                                                                                                  \n",
      " activation (Activation)        (None, 216, 64, 64)  0           ['batch_normalization[0][0]']    \n",
      "                                                                                                  \n",
      " max_pooling2d (MaxPooling2D)   (None, 108, 32, 64)  0           ['activation[0][0]']             \n",
      "                                                                                                  \n",
      " conv2d_1 (Conv2D)              (None, 108, 32, 64)  36928       ['max_pooling2d[0][0]']          \n",
      "                                                                                                  \n",
      " batch_normalization_1 (BatchNo  (None, 108, 32, 64)  256        ['conv2d_1[0][0]']               \n",
      " rmalization)                                                                                     \n",
      "                                                                                                  \n",
      " activation_1 (Activation)      (None, 108, 32, 64)  0           ['batch_normalization_1[0][0]']  \n",
      "                                                                                                  \n",
      " max_pooling2d_1 (MaxPooling2D)  (None, 54, 16, 64)  0           ['activation_1[0][0]']           \n",
      "                                                                                                  \n",
      " conv2d_2 (Conv2D)              (None, 54, 16, 64)   36928       ['max_pooling2d_1[0][0]']        \n",
      "                                                                                                  \n",
      " batch_normalization_2 (BatchNo  (None, 54, 16, 64)  256         ['conv2d_2[0][0]']               \n",
      " rmalization)                                                                                     \n",
      "                                                                                                  \n",
      " activation_2 (Activation)      (None, 54, 16, 64)   0           ['batch_normalization_2[0][0]']  \n",
      "                                                                                                  \n",
      " max_pooling2d_2 (MaxPooling2D)  (None, 27, 8, 64)   0           ['activation_2[0][0]']           \n",
      "                                                                                                  \n",
      " conv2d_3 (Conv2D)              (None, 27, 8, 64)    36928       ['max_pooling2d_2[0][0]']        \n",
      "                                                                                                  \n",
      " batch_normalization_3 (BatchNo  (None, 27, 8, 64)   256         ['conv2d_3[0][0]']               \n",
      " rmalization)                                                                                     \n",
      "                                                                                                  \n",
      " activation_3 (Activation)      (None, 27, 8, 64)    0           ['batch_normalization_3[0][0]']  \n",
      "                                                                                                  \n",
      " up_sampling2d (UpSampling2D)   (None, 54, 16, 64)   0           ['activation_3[0][0]']           \n",
      "                                                                                                  \n",
      " concatenate (Concatenate)      (None, 54, 16, 128)  0           ['activation_2[0][0]',           \n",
      "                                                                  'up_sampling2d[0][0]']          \n",
      "                                                                                                  \n",
      " conv2d_4 (Conv2D)              (None, 54, 16, 64)   73792       ['concatenate[0][0]']            \n",
      "                                                                                                  \n",
      " batch_normalization_4 (BatchNo  (None, 54, 16, 64)  256         ['conv2d_4[0][0]']               \n",
      " rmalization)                                                                                     \n",
      "                                                                                                  \n",
      " activation_4 (Activation)      (None, 54, 16, 64)   0           ['batch_normalization_4[0][0]']  \n",
      "                                                                                                  \n",
      " up_sampling2d_1 (UpSampling2D)  (None, 108, 32, 64)  0          ['activation_4[0][0]']           \n",
      "                                                                                                  \n",
      " concatenate_1 (Concatenate)    (None, 108, 32, 128  0           ['up_sampling2d_1[0][0]',        \n",
      "                                )                                 'activation_1[0][0]']           \n",
      "                                                                                                  \n",
      " conv2d_5 (Conv2D)              (None, 108, 32, 64)  73792       ['concatenate_1[0][0]']          \n",
      "                                                                                                  \n",
      " batch_normalization_5 (BatchNo  (None, 108, 32, 64)  256        ['conv2d_5[0][0]']               \n",
      " rmalization)                                                                                     \n",
      "                                                                                                  \n",
      " activation_5 (Activation)      (None, 108, 32, 64)  0           ['batch_normalization_5[0][0]']  \n",
      "                                                                                                  \n",
      " Layer19 (UpSampling2D)         (None, 216, 64, 64)  0           ['activation_5[0][0]']           \n",
      "                                                                                                  \n",
      " concatenate_2 (Concatenate)    (None, 216, 64, 128  0           ['Layer19[0][0]',                \n",
      "                                )                                 'activation[0][0]']             \n",
      "                                                                                                  \n",
      " conv2d_6 (Conv2D)              (None, 216, 64, 64)  73792       ['concatenate_2[0][0]']          \n",
      "                                                                                                  \n",
      " batch_normalization_6 (BatchNo  (None, 216, 64, 64)  256        ['conv2d_6[0][0]']               \n",
      " rmalization)                                                                                     \n",
      "                                                                                                  \n",
      " activation_6 (Activation)      (None, 216, 64, 64)  0           ['batch_normalization_6[0][0]']  \n",
      "                                                                                                  \n",
      " conv2d_7 (Conv2D)              (None, 216, 64, 8)   520         ['activation_6[0][0]']           \n",
      "                                                                                                  \n",
      " reshape (Reshape)              (None, 13824, 8)     0           ['conv2d_7[0][0]']               \n",
      "                                                                                                  \n",
      " activation_7 (Activation)      (None, 13824, 8)     0           ['reshape[0][0]']                \n",
      "                                                                                                  \n",
      "==================================================================================================\n",
      "Total params: 335,112\n",
      "Trainable params: 334,216\n",
      "Non-trainable params: 896\n",
      "__________________________________________________________________________________________________\n"
     ]
    }
   ],
   "source": [
    "from keras.layers import Conv2D, BatchNormalization, Activation, MaxPooling2D, UpSampling2D, Reshape, Concatenate\n",
    "from keras import Input, Model, regularizers\n",
    "\n",
    "# Defines the input tensor\n",
    "inputs = Input(shape=(216,64,1))\n",
    "\n",
    "L1 = Conv2D(64,kernel_size=(3,3),padding = \"same\",kernel_regularizer=regularizers.l2(weight_decay))(inputs)\n",
    "L2 = BatchNormalization()(L1)\n",
    "L2 = Activation('relu')(L2)\n",
    "#L3 = Lambda(maxpool_1,output_shape = shape)(L2)\n",
    "L3 = MaxPooling2D(pool_size=(2,2))(L2)\n",
    "L4 = Conv2D(64,kernel_size=(3,3),padding = \"same\",kernel_regularizer=regularizers.l2(weight_decay))(L3)\n",
    "L5 = BatchNormalization()(L4)\n",
    "L5 = Activation('relu')(L5)\n",
    "#L6 = Lambda(maxpool_2,output_shape = shape)(L5)\n",
    "L6 = MaxPooling2D(pool_size=(2,2))(L5)\n",
    "L7 = Conv2D(64,kernel_size=(3,3),padding = \"same\",kernel_regularizer=regularizers.l2(weight_decay))(L6)\n",
    "L8 = BatchNormalization()(L7)\n",
    "L8 = Activation('relu')(L8)\n",
    "#L9 = Lambda(maxpool_3,output_shape = shape)(L8)\n",
    "L9 = MaxPooling2D(pool_size=(2,2))(L8)\n",
    "L10 = Conv2D(64,kernel_size=(3,3),padding = \"same\",kernel_regularizer=regularizers.l2(weight_decay))(L9)\n",
    "L11 = BatchNormalization()(L10)\n",
    "L11 = Activation('relu')(L11)\n",
    "L12 = UpSampling2D(size = (2,2))(L11)\n",
    "#L12 = Lambda(unpool_3,output_shape = unpool_shape)(L11)\n",
    "L13 = Concatenate(axis = 3)([L8,L12])\n",
    "L14 = Conv2D(64,kernel_size=(3,3),padding = \"same\",kernel_regularizer=regularizers.l2(weight_decay))(L13)\n",
    "L15 = BatchNormalization()(L14)\n",
    "L15 = Activation('relu')(L15)\n",
    "L16 = UpSampling2D(size= (2,2))(L15)\n",
    "#L16 = Lambda(unpool_2,output_shape=unpool_shape)(L15)\n",
    "L17 = Concatenate(axis = 3)([L16,L5])\n",
    "L18 = Conv2D(64,kernel_size=(3,3),padding = \"same\",kernel_regularizer=regularizers.l2(weight_decay))(L17)\n",
    "L19 = BatchNormalization()(L18)\n",
    "L19 = Activation('relu')(L19)\n",
    "#L20 = Lambda(unpool_1,output_shape=unpool_shape)(L19)\n",
    "L20 = UpSampling2D(size=(2,2),name = \"Layer19\")(L19)\n",
    "L21 = Concatenate(axis=3)([L20,L2])\n",
    "L22 = Conv2D(64,kernel_size=(3,3),padding = \"same\",kernel_regularizer=regularizers.l2(weight_decay))(L21)\n",
    "L23 = BatchNormalization()(L22)\n",
    "L23 = Activation('relu')(L23)\n",
    "L24 = Conv2D(8,kernel_size=(1,1),padding = \"same\",kernel_regularizer=regularizers.l2(weight_decay))(L23)\n",
    "L = Reshape((data_shape,8),input_shape = (216,64,8))(L24)\n",
    "L = Activation('softmax')(L)\n",
    "model = Model(inputs = inputs, outputs = L)\n",
    "model.summary()"
   ],
   "metadata": {
    "collapsed": false
   }
  },
  {
   "cell_type": "code",
   "execution_count": 19,
   "outputs": [
    {
     "data": {
      "text/plain": "(500, 13824)"
     },
     "execution_count": 19,
     "metadata": {},
     "output_type": "execute_result"
    }
   ],
   "source": [
    "w_train = np.reshape(w_train,(500,data_shape))\n",
    "w_train.shape"
   ],
   "metadata": {
    "collapsed": false
   }
  },
  {
   "cell_type": "code",
   "execution_count": 20,
   "outputs": [
    {
     "name": "stdout",
     "output_type": "stream",
     "text": [
      "(500, 13824, 8)\n",
      "(270, 13824, 8)\n"
     ]
    }
   ],
   "source": [
    "y_train = np.reshape(y_train,(500,data_shape,8))\n",
    "y_test = np.reshape(y_test,(270,data_shape,8))\n",
    "print(y_train.shape)\n",
    "print(y_test.shape)"
   ],
   "metadata": {
    "collapsed": false
   }
  },
  {
   "cell_type": "code",
   "execution_count": 21,
   "outputs": [
    {
     "name": "stdout",
     "output_type": "stream",
     "text": [
      "Unexpected exception formatting exception. Falling back to standard exception\n"
     ]
    },
    {
     "name": "stderr",
     "output_type": "stream",
     "text": [
      "Traceback (most recent call last):\n",
      "  File \"C:\\Users\\user\\AppData\\Local\\Programs\\Python\\Python310\\lib\\site-packages\\IPython\\core\\interactiveshell.py\", line 3397, in run_code\n",
      "    exec(code_obj, self.user_global_ns, self.user_ns)\n",
      "  File \"C:\\Users\\user\\AppData\\Local\\Temp\\ipykernel_30236\\2727931942.py\", line -1, in <cell line: 2>\n",
      "KeyboardInterrupt\n",
      "\n",
      "During handling of the above exception, another exception occurred:\n",
      "\n",
      "Traceback (most recent call last):\n",
      "  File \"C:\\Users\\user\\AppData\\Local\\Programs\\Python\\Python310\\lib\\site-packages\\IPython\\core\\interactiveshell.py\", line 1992, in showtraceback\n",
      "    stb = self.InteractiveTB.structured_traceback(\n",
      "  File \"C:\\Users\\user\\AppData\\Local\\Programs\\Python\\Python310\\lib\\site-packages\\IPython\\core\\ultratb.py\", line 1118, in structured_traceback\n",
      "    return FormattedTB.structured_traceback(\n",
      "  File \"C:\\Users\\user\\AppData\\Local\\Programs\\Python\\Python310\\lib\\site-packages\\IPython\\core\\ultratb.py\", line 1012, in structured_traceback\n",
      "    return VerboseTB.structured_traceback(\n",
      "  File \"C:\\Users\\user\\AppData\\Local\\Programs\\Python\\Python310\\lib\\site-packages\\IPython\\core\\ultratb.py\", line 865, in structured_traceback\n",
      "    formatted_exception = self.format_exception_as_a_whole(etype, evalue, etb, number_of_lines_of_context,\n",
      "  File \"C:\\Users\\user\\AppData\\Local\\Programs\\Python\\Python310\\lib\\site-packages\\IPython\\core\\ultratb.py\", line 818, in format_exception_as_a_whole\n",
      "    frames.append(self.format_record(r))\n",
      "  File \"C:\\Users\\user\\AppData\\Local\\Programs\\Python\\Python310\\lib\\site-packages\\IPython\\core\\ultratb.py\", line 736, in format_record\n",
      "    result += ''.join(_format_traceback_lines(frame_info.lines, Colors, self.has_colors, lvals))\n",
      "  File \"C:\\Users\\user\\AppData\\Local\\Programs\\Python\\Python310\\lib\\site-packages\\stack_data\\utils.py\", line 145, in cached_property_wrapper\n",
      "    value = obj.__dict__[self.func.__name__] = self.func(obj)\n",
      "  File \"C:\\Users\\user\\AppData\\Local\\Programs\\Python\\Python310\\lib\\site-packages\\stack_data\\core.py\", line 698, in lines\n",
      "    pieces = self.included_pieces\n",
      "  File \"C:\\Users\\user\\AppData\\Local\\Programs\\Python\\Python310\\lib\\site-packages\\stack_data\\utils.py\", line 145, in cached_property_wrapper\n",
      "    value = obj.__dict__[self.func.__name__] = self.func(obj)\n",
      "  File \"C:\\Users\\user\\AppData\\Local\\Programs\\Python\\Python310\\lib\\site-packages\\stack_data\\core.py\", line 649, in included_pieces\n",
      "    pos = scope_pieces.index(self.executing_piece)\n",
      "  File \"C:\\Users\\user\\AppData\\Local\\Programs\\Python\\Python310\\lib\\site-packages\\stack_data\\utils.py\", line 145, in cached_property_wrapper\n",
      "    value = obj.__dict__[self.func.__name__] = self.func(obj)\n",
      "  File \"C:\\Users\\user\\AppData\\Local\\Programs\\Python\\Python310\\lib\\site-packages\\stack_data\\core.py\", line 628, in executing_piece\n",
      "    return only(\n",
      "  File \"C:\\Users\\user\\AppData\\Local\\Programs\\Python\\Python310\\lib\\site-packages\\executing\\executing.py\", line 164, in only\n",
      "    raise NotOneValueFound('Expected one value, found 0')\n",
      "executing.executing.NotOneValueFound: Expected one value, found 0\n"
     ]
    }
   ],
   "source": [
    "count = np.zeros(8)\n",
    "for i in range(500):\n",
    "    for j in range(13824):\n",
    "        for k in range(8):\n",
    "            if y_train[i][j][k]==1:\n",
    "                count[k] = count[k]+1"
   ],
   "metadata": {
    "collapsed": false
   }
  },
  {
   "cell_type": "code",
   "execution_count": null,
   "outputs": [],
   "source": [
    "count"
   ],
   "metadata": {
    "collapsed": false
   }
  },
  {
   "cell_type": "code",
   "execution_count": 66,
   "outputs": [
    {
     "data": {
      "text/plain": "array([4000562.,  324645.,  587309.,  335881.,  261770.,  905120.,\n        273685.,  223028.])"
     },
     "execution_count": 66,
     "metadata": {},
     "output_type": "execute_result"
    }
   ],
   "source": [
    "count = y_train.sum(axis=1).sum(axis=0)\n",
    "count"
   ],
   "metadata": {
    "collapsed": false
   }
  },
  {
   "cell_type": "code",
   "execution_count": 67,
   "outputs": [
    {
     "data": {
      "text/plain": "array([0.08255415, 1.01730506, 0.56233261, 0.98327384, 1.26165336,\n       0.36488311, 1.20672671, 1.48081407])"
     },
     "execution_count": 67,
     "metadata": {},
     "output_type": "execute_result"
    }
   ],
   "source": [
    "count = np.median(count)/count\n",
    "count"
   ],
   "metadata": {
    "collapsed": false
   }
  },
  {
   "cell_type": "code",
   "execution_count": 68,
   "outputs": [
    {
     "data": {
      "text/plain": "array([ 1.        , 12.32288192,  6.81168176, 11.91065288, 15.28273675,\n        4.41992443, 14.61739591, 17.93748767])"
     },
     "execution_count": 68,
     "metadata": {},
     "output_type": "execute_result"
    }
   ],
   "source": [
    "count = count/count[0]\n",
    "count"
   ],
   "metadata": {
    "collapsed": false
   }
  },
  {
   "cell_type": "code",
   "execution_count": 22,
   "outputs": [],
   "source": [
    "from keras import backend as K\n",
    "\n",
    "smooth = 1\n",
    "\n",
    "def dice_coef(y_true, y_pred):\n",
    "    y_true_f = K.flatten(y_true)\n",
    "    y_pred_f = K.flatten(y_pred)\n",
    "    intersection = K.sum(y_true_f * y_pred_f)\n",
    "    return (2. * intersection + smooth) / (K.sum(y_true_f) + K.sum(y_pred_f) + smooth)"
   ],
   "metadata": {
    "collapsed": false
   }
  },
  {
   "cell_type": "code",
   "execution_count": 23,
   "outputs": [],
   "source": [
    "def dice_coef_loss(y_true, y_pred):\n",
    "    return -dice_coef(y_true, y_pred)"
   ],
   "metadata": {
    "collapsed": false
   }
  },
  {
   "cell_type": "code",
   "execution_count": 24,
   "outputs": [],
   "source": [
    "def customized_loss(y_true,y_pred):\n",
    "    return (1*K.categorical_crossentropy(y_true, y_pred))+(0.5*dice_coef_loss(y_true, y_pred))"
   ],
   "metadata": {
    "collapsed": false
   }
  },
  {
   "cell_type": "code",
   "execution_count": 25,
   "outputs": [
    {
     "name": "stderr",
     "output_type": "stream",
     "text": [
      "C:\\Users\\user\\AppData\\Local\\Programs\\Python\\Python310\\lib\\site-packages\\keras\\optimizers\\optimizer_v2\\adam.py:114: UserWarning: The `lr` argument is deprecated, use `learning_rate` instead.\n",
      "  super().__init__(name, **kwargs)\n"
     ]
    }
   ],
   "source": [
    "from keras import optimizers\n",
    "\n",
    "optimiser = optimizers.Adam(lr = 0.01)\n",
    "model.compile(optimizer=optimiser,loss=customized_loss,metrics=['accuracy',dice_coef],sample_weight_mode='temporal')\n"
   ],
   "metadata": {
    "collapsed": false
   }
  },
  {
   "cell_type": "code",
   "execution_count": 26,
   "outputs": [],
   "source": [
    "from keras.callbacks import ReduceLROnPlateau, CSVLogger, ModelCheckpoint\n",
    "\n",
    "#Defining Callback functions which will be called by model during runtime when specified condition satisfies\n",
    "lr_reducer = ReduceLROnPlateau(factor=0.5, cooldown=0, patience=6, min_lr=0.5e-6)\n",
    "csv_logger = CSVLogger('Relaynet_sample_weights_denoised_lr_e2_testing_bs_20.csv')\n",
    "model_chekpoint = ModelCheckpoint(\"Relaynet_sample_weights_denoised_lr_e2_testing_bs_20.hdf5\",monitor = 'val_loss',verbose = 1,save_best_only=True)"
   ],
   "metadata": {
    "collapsed": false
   }
  },
  {
   "cell_type": "code",
   "execution_count": 27,
   "outputs": [
    {
     "name": "stdout",
     "output_type": "stream",
     "text": [
      "Epoch 1/60\n",
      "25/25 [==============================] - ETA: 0s - loss: 9.7623 - accuracy: 0.4413 - dice_coef: 0.3261\n",
      "Epoch 1: val_loss improved from inf to 655.66431, saving model to Relaynet_sample_weights_denoised_lr_e2_testing_bs_20.hdf5\n",
      "25/25 [==============================] - 121s 5s/step - loss: 9.7623 - accuracy: 0.4413 - dice_coef: 0.3261 - val_loss: 655.6643 - val_accuracy: 0.0327 - val_dice_coef: 0.0328 - lr: 0.0100\n",
      "Epoch 2/60\n",
      "25/25 [==============================] - ETA: 0s - loss: 8.5432 - accuracy: 0.4770 - dice_coef: 0.3882\n",
      "Epoch 2: val_loss improved from 655.66431 to 64.83040, saving model to Relaynet_sample_weights_denoised_lr_e2_testing_bs_20.hdf5\n",
      "25/25 [==============================] - 108s 4s/step - loss: 8.5432 - accuracy: 0.4770 - dice_coef: 0.3882 - val_loss: 64.8304 - val_accuracy: 0.0445 - val_dice_coef: 0.0493 - lr: 0.0100\n",
      "Epoch 3/60\n",
      "25/25 [==============================] - ETA: 0s - loss: 8.2210 - accuracy: 0.4740 - dice_coef: 0.3991\n",
      "Epoch 3: val_loss improved from 64.83040 to 5.17987, saving model to Relaynet_sample_weights_denoised_lr_e2_testing_bs_20.hdf5\n",
      "25/25 [==============================] - 112s 5s/step - loss: 8.2210 - accuracy: 0.4740 - dice_coef: 0.3991 - val_loss: 5.1799 - val_accuracy: 0.3039 - val_dice_coef: 0.2613 - lr: 0.0100\n",
      "Epoch 4/60\n",
      "25/25 [==============================] - ETA: 0s - loss: 8.1356 - accuracy: 0.4759 - dice_coef: 0.4106\n",
      "Epoch 4: val_loss improved from 5.17987 to 3.21619, saving model to Relaynet_sample_weights_denoised_lr_e2_testing_bs_20.hdf5\n",
      "25/25 [==============================] - 118s 5s/step - loss: 8.1356 - accuracy: 0.4759 - dice_coef: 0.4106 - val_loss: 3.2162 - val_accuracy: 0.5186 - val_dice_coef: 0.4305 - lr: 0.0100\n",
      "Epoch 5/60\n",
      "25/25 [==============================] - ETA: 0s - loss: 8.0271 - accuracy: 0.4784 - dice_coef: 0.4062\n",
      "Epoch 5: val_loss improved from 3.21619 to 1.97213, saving model to Relaynet_sample_weights_denoised_lr_e2_testing_bs_20.hdf5\n",
      "25/25 [==============================] - 116s 5s/step - loss: 8.0271 - accuracy: 0.4784 - dice_coef: 0.4062 - val_loss: 1.9721 - val_accuracy: 0.3771 - val_dice_coef: 0.3313 - lr: 0.0100\n",
      "Epoch 6/60\n",
      "25/25 [==============================] - ETA: 0s - loss: 7.8416 - accuracy: 0.4887 - dice_coef: 0.4217\n",
      "Epoch 6: val_loss did not improve from 1.97213\n",
      "25/25 [==============================] - 110s 4s/step - loss: 7.8416 - accuracy: 0.4887 - dice_coef: 0.4217 - val_loss: 2.1101 - val_accuracy: 0.2600 - val_dice_coef: 0.2468 - lr: 0.0100\n",
      "Epoch 7/60\n",
      "25/25 [==============================] - ETA: 0s - loss: 7.8844 - accuracy: 0.4840 - dice_coef: 0.4201\n",
      "Epoch 7: val_loss improved from 1.97213 to 1.46806, saving model to Relaynet_sample_weights_denoised_lr_e2_testing_bs_20.hdf5\n",
      "25/25 [==============================] - 109s 4s/step - loss: 7.8844 - accuracy: 0.4840 - dice_coef: 0.4201 - val_loss: 1.4681 - val_accuracy: 0.5074 - val_dice_coef: 0.4651 - lr: 0.0100\n",
      "Epoch 8/60\n",
      "25/25 [==============================] - ETA: 0s - loss: 7.8017 - accuracy: 0.4900 - dice_coef: 0.4143\n",
      "Epoch 8: val_loss did not improve from 1.46806\n",
      "25/25 [==============================] - 105s 4s/step - loss: 7.8017 - accuracy: 0.4900 - dice_coef: 0.4143 - val_loss: 1.8483 - val_accuracy: 0.3808 - val_dice_coef: 0.3579 - lr: 0.0100\n",
      "Epoch 9/60\n",
      "25/25 [==============================] - ETA: 0s - loss: 7.7860 - accuracy: 0.4750 - dice_coef: 0.4228\n",
      "Epoch 9: val_loss did not improve from 1.46806\n",
      "25/25 [==============================] - 105s 4s/step - loss: 7.7860 - accuracy: 0.4750 - dice_coef: 0.4228 - val_loss: 1.6879 - val_accuracy: 0.4319 - val_dice_coef: 0.4174 - lr: 0.0100\n",
      "Epoch 10/60\n",
      "25/25 [==============================] - ETA: 0s - loss: 7.6328 - accuracy: 0.4895 - dice_coef: 0.4289\n",
      "Epoch 10: val_loss improved from 1.46806 to 1.43054, saving model to Relaynet_sample_weights_denoised_lr_e2_testing_bs_20.hdf5\n",
      "25/25 [==============================] - 105s 4s/step - loss: 7.6328 - accuracy: 0.4895 - dice_coef: 0.4289 - val_loss: 1.4305 - val_accuracy: 0.4650 - val_dice_coef: 0.4368 - lr: 0.0100\n",
      "Epoch 11/60\n",
      "25/25 [==============================] - ETA: 0s - loss: 7.5866 - accuracy: 0.4859 - dice_coef: 0.4301\n",
      "Epoch 11: val_loss did not improve from 1.43054\n",
      "25/25 [==============================] - 109s 4s/step - loss: 7.5866 - accuracy: 0.4859 - dice_coef: 0.4301 - val_loss: 1.4734 - val_accuracy: 0.4617 - val_dice_coef: 0.4106 - lr: 0.0100\n",
      "Epoch 12/60\n",
      "25/25 [==============================] - ETA: 0s - loss: 7.5668 - accuracy: 0.4952 - dice_coef: 0.4368\n",
      "Epoch 12: val_loss did not improve from 1.43054\n",
      "25/25 [==============================] - 116s 5s/step - loss: 7.5668 - accuracy: 0.4952 - dice_coef: 0.4368 - val_loss: 1.4705 - val_accuracy: 0.4875 - val_dice_coef: 0.4363 - lr: 0.0100\n",
      "Epoch 13/60\n",
      "25/25 [==============================] - ETA: 0s - loss: 7.7164 - accuracy: 0.4770 - dice_coef: 0.4211\n",
      "Epoch 13: val_loss did not improve from 1.43054\n",
      "25/25 [==============================] - 109s 4s/step - loss: 7.7164 - accuracy: 0.4770 - dice_coef: 0.4211 - val_loss: 1.4506 - val_accuracy: 0.4943 - val_dice_coef: 0.4352 - lr: 0.0100\n",
      "Epoch 14/60\n",
      "25/25 [==============================] - ETA: 0s - loss: 7.5423 - accuracy: 0.4956 - dice_coef: 0.4341\n",
      "Epoch 14: val_loss did not improve from 1.43054\n",
      "25/25 [==============================] - 103s 4s/step - loss: 7.5423 - accuracy: 0.4956 - dice_coef: 0.4341 - val_loss: 1.4727 - val_accuracy: 0.4845 - val_dice_coef: 0.4275 - lr: 0.0100\n",
      "Epoch 15/60\n",
      "25/25 [==============================] - ETA: 0s - loss: 7.5046 - accuracy: 0.4932 - dice_coef: 0.4347\n",
      "Epoch 15: val_loss did not improve from 1.43054\n",
      "25/25 [==============================] - 102s 4s/step - loss: 7.5046 - accuracy: 0.4932 - dice_coef: 0.4347 - val_loss: 1.6693 - val_accuracy: 0.4274 - val_dice_coef: 0.4186 - lr: 0.0100\n",
      "Epoch 16/60\n",
      "25/25 [==============================] - ETA: 0s - loss: 7.4198 - accuracy: 0.4950 - dice_coef: 0.4405\n",
      "Epoch 16: val_loss did not improve from 1.43054\n",
      "25/25 [==============================] - 113s 5s/step - loss: 7.4198 - accuracy: 0.4950 - dice_coef: 0.4405 - val_loss: 1.6292 - val_accuracy: 0.3999 - val_dice_coef: 0.3634 - lr: 0.0100\n",
      "Epoch 17/60\n",
      "25/25 [==============================] - ETA: 0s - loss: 7.3275 - accuracy: 0.4952 - dice_coef: 0.4394\n",
      "Epoch 17: val_loss did not improve from 1.43054\n",
      "25/25 [==============================] - 114s 5s/step - loss: 7.3275 - accuracy: 0.4952 - dice_coef: 0.4394 - val_loss: 1.6705 - val_accuracy: 0.4526 - val_dice_coef: 0.4064 - lr: 0.0050\n",
      "Epoch 18/60\n",
      "25/25 [==============================] - ETA: 0s - loss: 7.2235 - accuracy: 0.5000 - dice_coef: 0.4447\n",
      "Epoch 18: val_loss did not improve from 1.43054\n",
      "25/25 [==============================] - 103s 4s/step - loss: 7.2235 - accuracy: 0.5000 - dice_coef: 0.4447 - val_loss: 1.5717 - val_accuracy: 0.4457 - val_dice_coef: 0.3975 - lr: 0.0050\n",
      "Epoch 19/60\n",
      "25/25 [==============================] - ETA: 0s - loss: 7.2351 - accuracy: 0.4986 - dice_coef: 0.4456\n",
      "Epoch 19: val_loss did not improve from 1.43054\n",
      "25/25 [==============================] - 120s 5s/step - loss: 7.2351 - accuracy: 0.4986 - dice_coef: 0.4456 - val_loss: 1.6376 - val_accuracy: 0.4293 - val_dice_coef: 0.3882 - lr: 0.0050\n",
      "Epoch 20/60\n",
      "25/25 [==============================] - ETA: 0s - loss: 7.1425 - accuracy: 0.5036 - dice_coef: 0.4521\n",
      "Epoch 20: val_loss did not improve from 1.43054\n",
      "25/25 [==============================] - 101s 4s/step - loss: 7.1425 - accuracy: 0.5036 - dice_coef: 0.4521 - val_loss: 1.4861 - val_accuracy: 0.4664 - val_dice_coef: 0.4113 - lr: 0.0050\n",
      "Epoch 21/60\n",
      "25/25 [==============================] - ETA: 0s - loss: 7.1284 - accuracy: 0.5070 - dice_coef: 0.4498\n",
      "Epoch 21: val_loss improved from 1.43054 to 1.41481, saving model to Relaynet_sample_weights_denoised_lr_e2_testing_bs_20.hdf5\n",
      "25/25 [==============================] - 98s 4s/step - loss: 7.1284 - accuracy: 0.5070 - dice_coef: 0.4498 - val_loss: 1.4148 - val_accuracy: 0.5072 - val_dice_coef: 0.4455 - lr: 0.0050\n",
      "Epoch 22/60\n",
      "25/25 [==============================] - ETA: 0s - loss: 7.1406 - accuracy: 0.5030 - dice_coef: 0.4489\n",
      "Epoch 22: val_loss did not improve from 1.41481\n",
      "25/25 [==============================] - 106s 4s/step - loss: 7.1406 - accuracy: 0.5030 - dice_coef: 0.4489 - val_loss: 1.5803 - val_accuracy: 0.4787 - val_dice_coef: 0.4326 - lr: 0.0050\n",
      "Epoch 23/60\n",
      "25/25 [==============================] - ETA: 0s - loss: 7.2214 - accuracy: 0.4924 - dice_coef: 0.4400\n",
      "Epoch 23: val_loss improved from 1.41481 to 1.35820, saving model to Relaynet_sample_weights_denoised_lr_e2_testing_bs_20.hdf5\n",
      "25/25 [==============================] - 116s 5s/step - loss: 7.2214 - accuracy: 0.4924 - dice_coef: 0.4400 - val_loss: 1.3582 - val_accuracy: 0.4817 - val_dice_coef: 0.4287 - lr: 0.0050\n",
      "Epoch 24/60\n",
      "25/25 [==============================] - ETA: 0s - loss: 7.0454 - accuracy: 0.5104 - dice_coef: 0.4571\n",
      "Epoch 24: val_loss did not improve from 1.35820\n",
      "25/25 [==============================] - 113s 5s/step - loss: 7.0454 - accuracy: 0.5104 - dice_coef: 0.4571 - val_loss: 1.5400 - val_accuracy: 0.4696 - val_dice_coef: 0.4246 - lr: 0.0050\n",
      "Epoch 25/60\n",
      "25/25 [==============================] - ETA: 0s - loss: 7.0866 - accuracy: 0.5087 - dice_coef: 0.4532\n",
      "Epoch 25: val_loss did not improve from 1.35820\n",
      "25/25 [==============================] - 110s 4s/step - loss: 7.0866 - accuracy: 0.5087 - dice_coef: 0.4532 - val_loss: 1.6306 - val_accuracy: 0.4549 - val_dice_coef: 0.4169 - lr: 0.0050\n",
      "Epoch 26/60\n",
      "25/25 [==============================] - ETA: 0s - loss: 7.0664 - accuracy: 0.5040 - dice_coef: 0.4511\n",
      "Epoch 26: val_loss improved from 1.35820 to 1.35333, saving model to Relaynet_sample_weights_denoised_lr_e2_testing_bs_20.hdf5\n",
      "25/25 [==============================] - 110s 4s/step - loss: 7.0664 - accuracy: 0.5040 - dice_coef: 0.4511 - val_loss: 1.3533 - val_accuracy: 0.4860 - val_dice_coef: 0.4450 - lr: 0.0050\n",
      "Epoch 27/60\n",
      "25/25 [==============================] - ETA: 0s - loss: 6.9957 - accuracy: 0.5130 - dice_coef: 0.4564\n",
      "Epoch 27: val_loss did not improve from 1.35333\n",
      "25/25 [==============================] - 101s 4s/step - loss: 6.9957 - accuracy: 0.5130 - dice_coef: 0.4564 - val_loss: 1.4577 - val_accuracy: 0.4841 - val_dice_coef: 0.4306 - lr: 0.0050\n",
      "Epoch 28/60\n",
      "25/25 [==============================] - ETA: 0s - loss: 7.0085 - accuracy: 0.5087 - dice_coef: 0.4550\n",
      "Epoch 28: val_loss did not improve from 1.35333\n",
      "25/25 [==============================] - 102s 4s/step - loss: 7.0085 - accuracy: 0.5087 - dice_coef: 0.4550 - val_loss: 1.5354 - val_accuracy: 0.4625 - val_dice_coef: 0.4162 - lr: 0.0050\n",
      "Epoch 29/60\n",
      "25/25 [==============================] - ETA: 0s - loss: 6.9769 - accuracy: 0.5149 - dice_coef: 0.4591\n",
      "Epoch 29: val_loss did not improve from 1.35333\n",
      "25/25 [==============================] - 101s 4s/step - loss: 6.9769 - accuracy: 0.5149 - dice_coef: 0.4591 - val_loss: 1.4567 - val_accuracy: 0.4635 - val_dice_coef: 0.4191 - lr: 0.0050\n",
      "Epoch 30/60\n",
      "25/25 [==============================] - ETA: 0s - loss: 6.9171 - accuracy: 0.5105 - dice_coef: 0.4522\n",
      "Epoch 30: val_loss did not improve from 1.35333\n",
      "25/25 [==============================] - 105s 4s/step - loss: 6.9171 - accuracy: 0.5105 - dice_coef: 0.4522 - val_loss: 1.3594 - val_accuracy: 0.5167 - val_dice_coef: 0.4628 - lr: 0.0050\n",
      "Epoch 31/60\n",
      "25/25 [==============================] - ETA: 0s - loss: 6.9639 - accuracy: 0.5127 - dice_coef: 0.4619\n",
      "Epoch 31: val_loss did not improve from 1.35333\n",
      "25/25 [==============================] - 101s 4s/step - loss: 6.9639 - accuracy: 0.5127 - dice_coef: 0.4619 - val_loss: 1.4577 - val_accuracy: 0.5112 - val_dice_coef: 0.4412 - lr: 0.0050\n",
      "Epoch 32/60\n",
      "25/25 [==============================] - ETA: 0s - loss: 6.8770 - accuracy: 0.5106 - dice_coef: 0.4576\n",
      "Epoch 32: val_loss improved from 1.35333 to 1.34923, saving model to Relaynet_sample_weights_denoised_lr_e2_testing_bs_20.hdf5\n",
      "25/25 [==============================] - 99s 4s/step - loss: 6.8770 - accuracy: 0.5106 - dice_coef: 0.4576 - val_loss: 1.3492 - val_accuracy: 0.4775 - val_dice_coef: 0.4517 - lr: 0.0050\n",
      "Epoch 33/60\n",
      "25/25 [==============================] - ETA: 0s - loss: 6.8604 - accuracy: 0.5200 - dice_coef: 0.4674\n",
      "Epoch 33: val_loss did not improve from 1.34923\n",
      "25/25 [==============================] - 96s 4s/step - loss: 6.8604 - accuracy: 0.5200 - dice_coef: 0.4674 - val_loss: 1.4946 - val_accuracy: 0.4904 - val_dice_coef: 0.4384 - lr: 0.0050\n",
      "Epoch 34/60\n",
      "25/25 [==============================] - ETA: 0s - loss: 6.8489 - accuracy: 0.5200 - dice_coef: 0.4585\n",
      "Epoch 34: val_loss did not improve from 1.34923\n",
      "25/25 [==============================] - 98s 4s/step - loss: 6.8489 - accuracy: 0.5200 - dice_coef: 0.4585 - val_loss: 1.5693 - val_accuracy: 0.4858 - val_dice_coef: 0.4328 - lr: 0.0050\n",
      "Epoch 35/60\n",
      "25/25 [==============================] - ETA: 0s - loss: 6.7372 - accuracy: 0.5156 - dice_coef: 0.4640\n",
      "Epoch 35: val_loss did not improve from 1.34923\n",
      "25/25 [==============================] - 94s 4s/step - loss: 6.7372 - accuracy: 0.5156 - dice_coef: 0.4640 - val_loss: 1.5041 - val_accuracy: 0.4805 - val_dice_coef: 0.4408 - lr: 0.0050\n",
      "Epoch 36/60\n",
      "25/25 [==============================] - ETA: 0s - loss: 6.7732 - accuracy: 0.5200 - dice_coef: 0.4660\n",
      "Epoch 36: val_loss did not improve from 1.34923\n",
      "25/25 [==============================] - 99s 4s/step - loss: 6.7732 - accuracy: 0.5200 - dice_coef: 0.4660 - val_loss: 1.5260 - val_accuracy: 0.4808 - val_dice_coef: 0.4297 - lr: 0.0050\n",
      "Epoch 37/60\n",
      "25/25 [==============================] - ETA: 0s - loss: 6.7247 - accuracy: 0.5206 - dice_coef: 0.4679\n",
      "Epoch 37: val_loss did not improve from 1.34923\n",
      "25/25 [==============================] - 98s 4s/step - loss: 6.7247 - accuracy: 0.5206 - dice_coef: 0.4679 - val_loss: 1.6157 - val_accuracy: 0.4807 - val_dice_coef: 0.4215 - lr: 0.0050\n",
      "Epoch 38/60\n",
      "25/25 [==============================] - ETA: 0s - loss: 6.6053 - accuracy: 0.5273 - dice_coef: 0.4705\n",
      "Epoch 38: val_loss did not improve from 1.34923\n",
      "25/25 [==============================] - 101s 4s/step - loss: 6.6053 - accuracy: 0.5273 - dice_coef: 0.4705 - val_loss: 1.5319 - val_accuracy: 0.4903 - val_dice_coef: 0.4291 - lr: 0.0050\n",
      "Epoch 39/60\n",
      "25/25 [==============================] - ETA: 0s - loss: 6.4361 - accuracy: 0.5388 - dice_coef: 0.4799\n",
      "Epoch 39: val_loss did not improve from 1.34923\n",
      "25/25 [==============================] - 102s 4s/step - loss: 6.4361 - accuracy: 0.5388 - dice_coef: 0.4799 - val_loss: 1.6531 - val_accuracy: 0.4650 - val_dice_coef: 0.4116 - lr: 0.0025\n",
      "Epoch 40/60\n",
      "25/25 [==============================] - ETA: 0s - loss: 6.3142 - accuracy: 0.5378 - dice_coef: 0.4795\n",
      "Epoch 40: val_loss did not improve from 1.34923\n",
      "25/25 [==============================] - 98s 4s/step - loss: 6.3142 - accuracy: 0.5378 - dice_coef: 0.4795 - val_loss: 1.5328 - val_accuracy: 0.4832 - val_dice_coef: 0.4334 - lr: 0.0025\n",
      "Epoch 41/60\n",
      "25/25 [==============================] - ETA: 0s - loss: 6.2194 - accuracy: 0.5344 - dice_coef: 0.4821\n",
      "Epoch 41: val_loss did not improve from 1.34923\n",
      "25/25 [==============================] - 116s 5s/step - loss: 6.2194 - accuracy: 0.5344 - dice_coef: 0.4821 - val_loss: 1.5404 - val_accuracy: 0.4930 - val_dice_coef: 0.4376 - lr: 0.0025\n",
      "Epoch 42/60\n",
      "25/25 [==============================] - ETA: 0s - loss: 6.1740 - accuracy: 0.5463 - dice_coef: 0.4875\n",
      "Epoch 42: val_loss did not improve from 1.34923\n",
      "25/25 [==============================] - 156s 6s/step - loss: 6.1740 - accuracy: 0.5463 - dice_coef: 0.4875 - val_loss: 1.5048 - val_accuracy: 0.4771 - val_dice_coef: 0.4272 - lr: 0.0025\n",
      "Epoch 43/60\n",
      "25/25 [==============================] - ETA: 0s - loss: 6.1534 - accuracy: 0.5423 - dice_coef: 0.4844\n",
      "Epoch 43: val_loss did not improve from 1.34923\n",
      "25/25 [==============================] - 145s 6s/step - loss: 6.1534 - accuracy: 0.5423 - dice_coef: 0.4844 - val_loss: 1.5397 - val_accuracy: 0.4678 - val_dice_coef: 0.4233 - lr: 0.0025\n",
      "Epoch 44/60\n",
      "25/25 [==============================] - ETA: 0s - loss: 6.1011 - accuracy: 0.5483 - dice_coef: 0.4925\n",
      "Epoch 44: val_loss did not improve from 1.34923\n",
      "25/25 [==============================] - 150s 6s/step - loss: 6.1011 - accuracy: 0.5483 - dice_coef: 0.4925 - val_loss: 1.4534 - val_accuracy: 0.4908 - val_dice_coef: 0.4375 - lr: 0.0025\n",
      "Epoch 45/60\n",
      "25/25 [==============================] - ETA: 0s - loss: 5.8436 - accuracy: 0.5515 - dice_coef: 0.4897\n",
      "Epoch 45: val_loss did not improve from 1.34923\n",
      "25/25 [==============================] - 138s 6s/step - loss: 5.8436 - accuracy: 0.5515 - dice_coef: 0.4897 - val_loss: 1.4772 - val_accuracy: 0.4805 - val_dice_coef: 0.4388 - lr: 0.0012\n",
      "Epoch 46/60\n",
      "25/25 [==============================] - ETA: 0s - loss: 5.7561 - accuracy: 0.5680 - dice_coef: 0.5066\n",
      "Epoch 46: val_loss did not improve from 1.34923\n",
      "25/25 [==============================] - 100s 4s/step - loss: 5.7561 - accuracy: 0.5680 - dice_coef: 0.5066 - val_loss: 1.4439 - val_accuracy: 0.4925 - val_dice_coef: 0.4438 - lr: 0.0012\n",
      "Epoch 47/60\n",
      "25/25 [==============================] - ETA: 0s - loss: 5.7124 - accuracy: 0.5586 - dice_coef: 0.4982\n",
      "Epoch 47: val_loss did not improve from 1.34923\n",
      "25/25 [==============================] - 129s 5s/step - loss: 5.7124 - accuracy: 0.5586 - dice_coef: 0.4982 - val_loss: 1.4478 - val_accuracy: 0.4969 - val_dice_coef: 0.4531 - lr: 0.0012\n",
      "Epoch 48/60\n",
      "25/25 [==============================] - ETA: 0s - loss: 5.5730 - accuracy: 0.5744 - dice_coef: 0.5118\n",
      "Epoch 48: val_loss did not improve from 1.34923\n",
      "25/25 [==============================] - 122s 5s/step - loss: 5.5730 - accuracy: 0.5744 - dice_coef: 0.5118 - val_loss: 1.4692 - val_accuracy: 0.4599 - val_dice_coef: 0.4343 - lr: 0.0012\n",
      "Epoch 49/60\n",
      "25/25 [==============================] - ETA: 0s - loss: 5.6695 - accuracy: 0.5675 - dice_coef: 0.5091\n",
      "Epoch 49: val_loss did not improve from 1.34923\n",
      "25/25 [==============================] - 114s 5s/step - loss: 5.6695 - accuracy: 0.5675 - dice_coef: 0.5091 - val_loss: 1.4132 - val_accuracy: 0.5062 - val_dice_coef: 0.4619 - lr: 0.0012\n",
      "Epoch 50/60\n",
      "25/25 [==============================] - ETA: 0s - loss: 5.4940 - accuracy: 0.5708 - dice_coef: 0.5066\n",
      "Epoch 50: val_loss did not improve from 1.34923\n",
      "25/25 [==============================] - 111s 4s/step - loss: 5.4940 - accuracy: 0.5708 - dice_coef: 0.5066 - val_loss: 1.4352 - val_accuracy: 0.4935 - val_dice_coef: 0.4552 - lr: 0.0012\n",
      "Epoch 51/60\n",
      "25/25 [==============================] - ETA: 0s - loss: 5.2391 - accuracy: 0.5845 - dice_coef: 0.5199\n",
      "Epoch 51: val_loss did not improve from 1.34923\n",
      "25/25 [==============================] - 112s 5s/step - loss: 5.2391 - accuracy: 0.5845 - dice_coef: 0.5199 - val_loss: 1.4261 - val_accuracy: 0.4928 - val_dice_coef: 0.4533 - lr: 6.2500e-04\n",
      "Epoch 52/60\n",
      "25/25 [==============================] - ETA: 0s - loss: 5.1847 - accuracy: 0.5928 - dice_coef: 0.5272\n",
      "Epoch 52: val_loss did not improve from 1.34923\n",
      "25/25 [==============================] - 110s 4s/step - loss: 5.1847 - accuracy: 0.5928 - dice_coef: 0.5272 - val_loss: 1.4337 - val_accuracy: 0.4956 - val_dice_coef: 0.4540 - lr: 6.2500e-04\n",
      "Epoch 53/60\n",
      "25/25 [==============================] - ETA: 0s - loss: 5.1457 - accuracy: 0.5912 - dice_coef: 0.5244\n",
      "Epoch 53: val_loss did not improve from 1.34923\n",
      "25/25 [==============================] - 111s 4s/step - loss: 5.1457 - accuracy: 0.5912 - dice_coef: 0.5244 - val_loss: 1.4691 - val_accuracy: 0.4896 - val_dice_coef: 0.4530 - lr: 6.2500e-04\n",
      "Epoch 54/60\n",
      "25/25 [==============================] - ETA: 0s - loss: 5.0766 - accuracy: 0.5928 - dice_coef: 0.5288\n",
      "Epoch 54: val_loss did not improve from 1.34923\n",
      "25/25 [==============================] - 112s 4s/step - loss: 5.0766 - accuracy: 0.5928 - dice_coef: 0.5288 - val_loss: 1.4426 - val_accuracy: 0.5016 - val_dice_coef: 0.4634 - lr: 6.2500e-04\n",
      "Epoch 55/60\n",
      "25/25 [==============================] - ETA: 0s - loss: 4.9780 - accuracy: 0.6002 - dice_coef: 0.5323\n",
      "Epoch 55: val_loss did not improve from 1.34923\n",
      "25/25 [==============================] - 113s 5s/step - loss: 4.9780 - accuracy: 0.6002 - dice_coef: 0.5323 - val_loss: 1.4514 - val_accuracy: 0.4888 - val_dice_coef: 0.4562 - lr: 6.2500e-04\n",
      "Epoch 56/60\n",
      "25/25 [==============================] - ETA: 0s - loss: 4.9995 - accuracy: 0.5958 - dice_coef: 0.5317\n",
      "Epoch 56: val_loss did not improve from 1.34923\n",
      "25/25 [==============================] - 115s 5s/step - loss: 4.9995 - accuracy: 0.5958 - dice_coef: 0.5317 - val_loss: 1.4334 - val_accuracy: 0.5038 - val_dice_coef: 0.4726 - lr: 6.2500e-04\n",
      "Epoch 57/60\n",
      "25/25 [==============================] - ETA: 0s - loss: 4.8569 - accuracy: 0.6089 - dice_coef: 0.5403\n",
      "Epoch 57: val_loss did not improve from 1.34923\n",
      "25/25 [==============================] - 115s 5s/step - loss: 4.8569 - accuracy: 0.6089 - dice_coef: 0.5403 - val_loss: 1.4479 - val_accuracy: 0.5006 - val_dice_coef: 0.4641 - lr: 3.1250e-04\n",
      "Epoch 58/60\n",
      "25/25 [==============================] - ETA: 0s - loss: 4.7992 - accuracy: 0.6065 - dice_coef: 0.5396\n",
      "Epoch 58: val_loss did not improve from 1.34923\n",
      "25/25 [==============================] - 112s 4s/step - loss: 4.7992 - accuracy: 0.6065 - dice_coef: 0.5396 - val_loss: 1.4328 - val_accuracy: 0.5004 - val_dice_coef: 0.4675 - lr: 3.1250e-04\n",
      "Epoch 59/60\n",
      "25/25 [==============================] - ETA: 0s - loss: 4.7371 - accuracy: 0.6131 - dice_coef: 0.5439\n",
      "Epoch 59: val_loss did not improve from 1.34923\n",
      "25/25 [==============================] - 111s 4s/step - loss: 4.7371 - accuracy: 0.6131 - dice_coef: 0.5439 - val_loss: 1.4477 - val_accuracy: 0.4990 - val_dice_coef: 0.4673 - lr: 3.1250e-04\n",
      "Epoch 60/60\n",
      "25/25 [==============================] - ETA: 0s - loss: 4.7215 - accuracy: 0.6095 - dice_coef: 0.5415\n",
      "Epoch 60: val_loss did not improve from 1.34923\n",
      "25/25 [==============================] - 111s 4s/step - loss: 4.7215 - accuracy: 0.6095 - dice_coef: 0.5415 - val_loss: 1.4599 - val_accuracy: 0.5009 - val_dice_coef: 0.4675 - lr: 3.1250e-04\n",
      "CPU times: total: 10h 29min 59s\n",
      "Wall time: 1h 50min 53s\n"
     ]
    },
    {
     "data": {
      "text/plain": "<keras.callbacks.History at 0x1e76151f880>"
     },
     "execution_count": 27,
     "metadata": {},
     "output_type": "execute_result"
    }
   ],
   "source": [
    "%%time\n",
    "model.fit(x_train,y_train,batch_size=20,epochs=60,validation_data=(x_test,y_test),sample_weight=w_train,callbacks=[lr_reducer, csv_logger,model_chekpoint])"
   ],
   "metadata": {
    "collapsed": false
   }
  },
  {
   "cell_type": "code",
   "execution_count": 28,
   "outputs": [
    {
     "name": "stdout",
     "output_type": "stream",
     "text": [
      "(216, 64, 1)\n",
      "(216, 64)\n"
     ]
    },
    {
     "data": {
      "text/plain": "<matplotlib.image.AxesImage at 0x1e764095300>"
     },
     "execution_count": 28,
     "metadata": {},
     "output_type": "execute_result"
    },
    {
     "data": {
      "text/plain": "<Figure size 432x288 with 1 Axes>",
      "image/png": "[encoded data removed]"
     },
     "metadata": {
      "needs_background": "light"
     },
     "output_type": "display_data"
    }
   ],
   "source": [
    "obj = x_train[28]\n",
    "print(obj.shape)\n",
    "obj = np.squeeze(obj,axis = 2)\n",
    "print(obj.shape)\n",
    "plt.imshow(obj,cmap = \"gray\")"
   ],
   "metadata": {
    "collapsed": false
   }
  },
  {
   "cell_type": "code",
   "execution_count": 29,
   "outputs": [
    {
     "name": "stdout",
     "output_type": "stream",
     "text": [
      "1/1 [==============================] - 1s 1s/step\n",
      "(1, 13824, 8)\n",
      "(13824, 8)\n"
     ]
    }
   ],
   "source": [
    "obj = obj.reshape((1,216,64,1))\n",
    "prediction = model.predict(obj)\n",
    "print(prediction.shape)\n",
    "prediction = np.squeeze(prediction,axis = 0)\n",
    "print(prediction.shape)\n",
    "prediction = np.reshape(prediction,(216,64,8))"
   ],
   "metadata": {
    "collapsed": false
   }
  },
  {
   "cell_type": "code",
   "execution_count": 30,
   "outputs": [],
   "source": [
    "output = np.zeros((216,64))\n",
    "ground = np.zeros((216,64))\n",
    "for i in range(216):\n",
    "    for j in range(64):\n",
    "        output[i][j] = np.argmax(prediction[i][j])"
   ],
   "metadata": {
    "collapsed": false
   }
  },
  {
   "cell_type": "code",
   "execution_count": 31,
   "outputs": [],
   "source": [
    "test_ground_truth = np.reshape(train_labels[28],(216,64,8))\n",
    "for i in range(216):\n",
    "    for j in range(64):\n",
    "        ground[i][j] = np.argmax(test_ground_truth[i][j])\n",
    "for i in range(216):\n",
    "    for j in range(64):\n",
    "        output[i][j] = np.argmax(prediction[i][j])"
   ],
   "metadata": {
    "collapsed": false
   }
  },
  {
   "cell_type": "code",
   "execution_count": 32,
   "outputs": [
    {
     "name": "stderr",
     "output_type": "stream",
     "text": [
      "Clipping input data to the valid range for imshow with RGB data ([0..1] for floats or [0..255] for integers).\n"
     ]
    },
    {
     "data": {
      "text/plain": "<matplotlib.image.AxesImage at 0x1e76412abf0>"
     },
     "execution_count": 32,
     "metadata": {},
     "output_type": "execute_result"
    },
    {
     "data": {
      "text/plain": "<Figure size 432x288 with 1 Axes>",
      "image/png": "[encoded data removed]"
     },
     "metadata": {
      "needs_background": "light"
     },
     "output_type": "display_data"
    }
   ],
   "source": [
    "color_pred = np.zeros((216,64,3))\n",
    "for j in range(216):\n",
    "    for k in range(64):\n",
    "        if output[j][k]==0:\n",
    "            color_pred[j][k] = [0,0,0]\n",
    "        if output[j][k]==1:\n",
    "            color_pred[j][k] = [128,0,0]\n",
    "        if output[j][k]==2:\n",
    "            color_pred[j][k] = [0,128,0]\n",
    "        if output[j][k]==3:\n",
    "            color_pred[j][k] = [128,128,0]\n",
    "        if output[j][k]==4:\n",
    "            color_pred[j][k] = [0,128,128]\n",
    "        if output[j][k]==5:\n",
    "            color_pred[j][k] = [64,0,0]\n",
    "        if output[j][k]==6:\n",
    "            color_pred[j][k] = [192,0,0]\n",
    "        if output[j][k]==7:\n",
    "            color_pred[j][k] = [64,128,0]\n",
    "plt.imshow(color_pred)"
   ],
   "metadata": {
    "collapsed": false
   }
  },
  {
   "cell_type": "code",
   "execution_count": 33,
   "outputs": [
    {
     "name": "stderr",
     "output_type": "stream",
     "text": [
      "Clipping input data to the valid range for imshow with RGB data ([0..1] for floats or [0..255] for integers).\n"
     ]
    },
    {
     "data": {
      "text/plain": "<matplotlib.image.AxesImage at 0x1e76418e4a0>"
     },
     "execution_count": 33,
     "metadata": {},
     "output_type": "execute_result"
    },
    {
     "data": {
      "text/plain": "<Figure size 432x288 with 1 Axes>",
      "image/png": "[encoded data removed]"
     },
     "metadata": {
      "needs_background": "light"
     },
     "output_type": "display_data"
    }
   ],
   "source": [
    "color_true = np.zeros((216,64,3))\n",
    "for j in range(216):\n",
    "    for k in range(64):\n",
    "        if ground[j][k]==0:\n",
    "            color_true[j][k] = [0,0,0]\n",
    "        if ground[j][k]==1:\n",
    "            color_true[j][k] = [128,0,0]\n",
    "        if ground[j][k]==2:\n",
    "            color_true[j][k] = [0,128,0]\n",
    "        if ground[j][k]==3:\n",
    "            color_true[j][k] = [128,128,0]\n",
    "        if ground[j][k]==4:\n",
    "            color_true[j][k] = [0,128,128]\n",
    "        if ground[j][k]==5:\n",
    "            color_true[j][k] = [64,0,0]\n",
    "        if ground[j][k]==6:\n",
    "            color_true[j][k] = [192,0,0]\n",
    "        if ground[j][k]==7:\n",
    "            color_true[j][k] = [64,128,0]\n",
    "plt.imshow(color_true)"
   ],
   "metadata": {
    "collapsed": false
   }
  },
  {
   "cell_type": "code",
   "execution_count": null,
   "outputs": [],
   "source": [],
   "metadata": {
    "collapsed": false
   }
  }
 ],
 "metadata": {
  "kernelspec": {
   "display_name": "Python 3",
   "language": "python",
   "name": "python3"
  },
  "language_info": {
   "codemirror_mode": {
    "name": "ipython",
    "version": 2
   },
   "file_extension": ".py",
   "mimetype": "text/x-python",
   "name": "python",
   "nbconvert_exporter": "python",
   "pygments_lexer": "ipython2",
   "version": "2.7.6"
  }
 },
 "nbformat": 4,
 "nbformat_minor": 0
}
